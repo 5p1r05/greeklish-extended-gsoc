{
 "cells": [
  {
   "cell_type": "code",
   "execution_count": 6,
   "metadata": {},
   "outputs": [
    {
     "name": "stdout",
     "output_type": "stream",
     "text": [
      "['sou leo oti den ginete auto pou thes, para mono iparxonta protocola diamesou tcp/ip . ti diaolo blakes einai oloi oi alloi kai ftiaxnoun syn flooders , spoofers ktl se c/c++ i delphi/kylix . i java den xreisimopoiei dll (ektos ean leo ean ftiaxeis programma mono gia windows, opou ekei xreisimopoiei kapoies -oxi oles- entoles systimatos, gia na ftiaxei tin forma, ta koumpia ktl oste na min xreisimopoieis kapoin browser me java)episis fantasou oti gia na ftiaxeis kapoion spoofer se c/c++ se unix einai kati eukolo, se windows den tha elega.... fantasou tora ti ginete ean thes na to ftiaxeis se java, tha sou bgei i xoli....------------------EDgSTr5SmDY=', 'apofasisa loipon na to agoraso. aurio tha kano tin paraggelia. opos eipa tha agoraso ton 24ari me 500ari skliro ton 2.8extreme kai 2gb ram. thelo na kano mia erotisi i opoia borei se pio sxetikous me mac(kathoti ego eimai newbie) na fanei asteia alla ego ofeilo na tin kano. den pisteuo na argoun ta leopard se auton ton imac? mipos xreiazeta perisotero mnimi? euxaristo', 'Re seis min xefeugei i sizitisi! EGw antipa8ousa ta princo giati stin epoxi tw n8x xwris burnproof otan ekana eggrafi etrema! K eixe bgei to onoma princo(tromos)(yamaha atapi 8x) Apo tin stigmi pou bgike to burnproof ta dedomena allaxan! AKoma kai cd xeirotetis poiotitas kaneis tin douleia sou!', 'Pare epwnymo trofodotiko, estw kai 300w, mporei na se swsei apo polla!! 8a sou proteina na pareis to ANTEC SMARTPOWER 350watt! Exei liges meres pou to phra kai pistevw oti htan mia poly kalh epilogh! Mono 80 eurw, 3 xronia egiisi ta xarakthristika tou ksepernane xalara ena noname 450 watt!!!! Gia tou logou to alithes sou lew oti exei 3,3v kai 5v combined 230watt(oi grammes autes dhl oi 3,3 kai h 5 einai oi shmantikoteres pou prepei na koitas se ena trofodotiko, eidika se platformes Athlon) se anti8esh me kapoio noname 350 watt pou 8a dwsei to poly 180-190 watt! Exei PFC(power factor correction) kati pou dyskola 8a vreis se noname PSU kai systhma diakophs leitourgias se periptwsh yperfwrtwshs!! Gia thn psixi tou yparxoun 2 anemisthres enas 80mm kai enas 92mm pou rithmizoun tis strofes analoga me thn 8ermokrasia! Sto proteinw an psaxneis gia ena poly kalo trofodotiko sta 350watt, pou den kaigetai eukola!! An h tseph sou antexei vevea pare to TRUEPOWER 380 watt, oti kalytero, symfwna me metrhseis vgazei alithina 471 watt!!!! tsekare autes tis dieu8ynseis: , kai Filika', 'Apo battery ti paizei? Anaferete montelo(Nokia, SE), xrhsh, diarkeia zwhs.', 'Kala... pote den eixa se idiaiterh ekthmhsh thn syggekrimenh etairia. Panta mou edine thn entypwsh oti edine perissotero bash sthn emfanhsh kai sto trend para ston hxo... Bebaia den to exw psaksei kai poly (panta mou thn espagan emfanisiaka) opote kalista mporei na lew kai m@l@kies kai h ki8ara na bgazei poly kalo hxo... O filos mou xtyphse mia asprh metaxeirismenh me arketa lefta kei leei oti exei poly paxy swma(kai einai kai arketa baria) kai oti bgazei apistefto hxo. Opote mallon den paizei 8ema \"maimou\". Aftos akouei mono klassiko/power/thrash bebaia... Egw pali exw kanei ta osa sto \"tavraki\" mou gia na paizw afta pou goustarw... Gia megalo diasthma epairna 12ares xordes (gia na mhn kremane) kai kourdiza se drop C (!!!) kai oloi me ebrizan... Sta @@ moy bebaia... Twra epitelous elysa to problhma ths 7xordhs pou panta h8ela kai ths foresa tis 6 panw xordes apo ena set 7xordhs kourdismenh se drop A (!!!!!!!!)', 'Einai egkurotath!!! Proswpika elaba e-mail pou me enhmerwse gia to gegonos. Sygkekrimena 8a uparxoun duo ekdoseis.(Blepe Kazaa-Kazaa Gold)', 'f-secure nomizo xrisimopoei 3 diaforetikes mixanes anazitisis ion(diorthoste ama kano lathos) . Tespa , me 2 antivirus sto sustima , uparxei mia pithanotita na mi doulepsei tpt apo ta dio . Episis tsampa fortoneis to sustima sou.. Kalitera vale ena kai kalo na mi lugizeis to pc sou xoris logo.', 'Edo kai poli kairo exo provlima me ta fonts ton WIN! otan valo 4-5 programmata grafikon sto PC(corel, photoshop... ktl), molis pao na kano install new font apo to control panel mou leei oti exo polles grammatosires kai na adiaso kapoies gia na valo aftes pou thelo! EROTISI:1)Giati sta win NT4 kai sta 2000pro den eixa afto to provlima?2)Iparxei tropos na afksiso ti xoritikotita tou fakeloy fonts? Sorry gia to priksimo!!!: ))))', 'exw dokimasei olla ta programmata kai to mytheatre htan to pio sta8ero omorfo leitourgiko kai den kolage pote. omws xrhsimopoiw to prog dvb logw tou oti to allo den mou anoige 2-3 kanalia ta opoia sthn ousia den blepw..(aplhstia e!!)kai tou oti exei broadcast server kai vlepw apo olla ta pc tou diktyou mou me 1 karta mono kai ta kleidwmena!! nai me to prog dvb anoigeis oti exei apomeinei kai anhgei akoma me ponhro tropo, ektos toy freex pou anoigei mono se dektes kanonikous an sou aresei na dokimazeis kai mporeseis na vreis to wach tv pro(to neo oxi to palio)se full einai poly kalo kai sta8erotato kai den 8elei install trexei apo ena folder pou to kaneis extract', 'Filarako analoga ti adsl exeis..!! Pantws na ksereis oti panta sto downloading eksartiese apo thn shndesh twn allwn(hte server einai autos hte xrhsths), den paizei rolo an exeis adsl, an pas na kaneis download apo enan pou exei 56k tha katevazeis me mhdenikes taxutites tou tupou max. : 5-6 kb/s! An thes kalo kai me grhgwres sundeseis programma gia sharing koita ligaki to DC++!', \"Geia xara se olous kai oles......... Na kanw mia erwthsh re magkes shmera to prwi phra thn texnikh yposthri3h ths Forthnet giati parousiaza (ws sunhthws) ena problem me to jetspeed 520 etuxe mia fora na to alla3w 3 fores alla to 3o eixe to e3hs pleonekthma..... Kai na epefte to reuma sthn Kalamata (spudazw) otan h DSL epanerxotan kai anaban ta labakia ta stoixeia htan pali ok! kai den xreiazotan katholou na paw sthn classic ip gia na ksanagrafw tis plhrofories... Omws twra teleutaia me tis broxes pu exei pesei kamia 10 fores to maximum dustuxws enw exw kanei save (admin&commit-->reboot-->commit)ta stoixeia xanontai. Mou esteilan e-mail mallon me to teleutaio update gia to jetspeed 520 alla tha ithela na rwthsw gnwrizei kaneis sas kapoio allo site me updates otidhpote eidous EKTOS apo ths INTRACOM sto opoio kai einai tou 2004 ta updates.... P. S. Sorry gia to mAkruuuuuuuuuuuuuuuuuuuuuuuuuuuuuuu POST! :: otan kanoume update mesa apo thn ip tou sygkekrimenou modem prepei na kanw reboot dhladh na sbhsoun kai na 3anaepanerthoun ta labakai h..... apla commit san save! Yparxei diafora gi'auto rwtaw///\"]\n",
      "12\n",
      "[['a)e'], ['c(k'], ['o(t', 's)(y'], ['t(o', 'C(p'], ['o(N'], ['a(k'], ['s.(B'], ['n(d'], ['C(c'], ['w..(a', 'o(t', 'o)s'], ['n(h'], ['t)t']]\n"
     ]
    }
   ],
   "source": [
    "import os\n",
    "import re\n",
    "import json\n",
    "import string\n",
    "\n",
    "pattern = r'[a-zA-Z][.(),]+[a-zA-Z]'\n",
    "\n",
    "\n",
    "annotated = os.listdir('forums_info/forums_sampled')\n",
    "\n",
    "texts = []\n",
    "patterns = []\n",
    "for file in annotated:\n",
    "    with open('forums_info/forums_sampled/' + file, 'r') as f:\n",
    "        data = json.load(f)\n",
    "    for post in data:\n",
    "        text = post['text']\n",
    "        matches = re.findall(pattern, text)\n",
    "        if matches:\n",
    "            texts.append(text)\n",
    "            patterns.append(matches)\n",
    "\n",
    "print(texts)\n",
    "print(len(texts))\n",
    "\n",
    "print(patterns)"
   ]
  },
  {
   "cell_type": "code",
   "execution_count": 7,
   "metadata": {},
   "outputs": [],
   "source": [
    "import os\n",
    "import json\n",
    "import random\n",
    "\n",
    "forums = os.listdir('forums_annotated')\n",
    "\n",
    "random.seed(36)\n",
    "\n",
    "for forum in forums:\n",
    "    with open(f'forums_annotated/{forum}', 'r') as f:\n",
    "        data = json.load(f)\n",
    "    \n",
    "    filtered_years_data = []\n",
    "\n",
    "    # Only keep posts before 2008\n",
    "    for post in data:\n",
    "        year = post['time'].split(\"-\")[0]\n",
    "        if int(year) < 2008:\n",
    "            filtered_years_data.append(post)\n",
    "\n",
    "    \n",
    "\n",
    "    random_elements = random.sample(filtered_years_data, 10)\n",
    "    \n",
    "    forum_name = forum.split('.')[0]\n",
    "\n",
    "    with open(f'forums_info/forums_sampled/{forum_name}_sample2.json', 'w') as f:\n",
    "        json.dump(random_elements, f, indent=4, ensure_ascii=False)"
   ]
  }
 ],
 "metadata": {
  "kernelspec": {
   "display_name": "test_greeklish",
   "language": "python",
   "name": "python3"
  },
  "language_info": {
   "codemirror_mode": {
    "name": "ipython",
    "version": 3
   },
   "file_extension": ".py",
   "mimetype": "text/x-python",
   "name": "python",
   "nbconvert_exporter": "python",
   "pygments_lexer": "ipython3",
   "version": "3.9.19"
  }
 },
 "nbformat": 4,
 "nbformat_minor": 4
}
