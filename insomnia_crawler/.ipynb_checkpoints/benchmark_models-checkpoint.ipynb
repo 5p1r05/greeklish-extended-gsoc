{
 "cells": [
  {
   "cell_type": "code",
   "execution_count": 8,
   "metadata": {},
   "outputs": [],
   "source": [
    "# Calculate scores for misaligned texts\n",
    "import re\n",
    "import os\n",
    "import json\n",
    "\n",
    "def detect_language(text):\n",
    "    \"\"\"\n",
    "    Checks whether the majority of the letters in the input text are in the greek or the latin script\n",
    "    It is used to identify whether the text is in greek or greeklish (latin script), in order to skip unnecessary conversions.\n",
    "\n",
    "    Args:\n",
    "        text (str): The input text\n",
    "\n",
    "    Returns:\n",
    "        script (str): The dominant script\n",
    "    \"\"\"\n",
    "    # Filter out non-letter characters\n",
    "    valid_characters = [char for char in text if char.isalpha()]\n",
    "    \n",
    "    # Count Greek and English letters\n",
    "    greek_count = sum(1 for char in valid_characters if '\\u0370' <= char <= '\\u03FF' or '\\u1F00' <= char <= '\\u1FFF')\n",
    "    english_count = sum(1 for char in valid_characters if '\\u0041' <= char <= '\\u005A' or '\\u0061' <= char <= '\\u007A')\n",
    "    \n",
    "    if(greek_count == 0 and english_count == 0):\n",
    "        return \"unknown\"\n",
    "\n",
    "    script = \"greek\" if greek_count >= english_count else \"latin\"\n",
    "    return script\n",
    "\n",
    "def calculate_scores_misaligned(original_text, predicted_text, gt_indices):\n",
    "    TP = 0\n",
    "    FP = 0\n",
    "    FN = 0\n",
    "\n",
    "    indices_not_found = []\n",
    "    for index in gt_indices:\n",
    "        word = original_text.split(\" \")[index]\n",
    "        # Check whether the word is in the predicted text\n",
    "        if(word in predicted_text or word.lower() in predicted_text or word.upper() in predicted_text):\n",
    "            TP += 1\n",
    "        # If the word is not in the predicted text, it is a false negative\n",
    "        else:\n",
    "            FN += 1\n",
    "            indices_not_found.append(index)\n",
    "\n",
    "    # Check for false positives\n",
    "\n",
    "    original_english_words = [original_text.split(\" \")[index] for index in gt_indices]\n",
    "    for i, word in enumerate(predicted_text.split(\" \")):\n",
    "        # only keep the letters\n",
    "        stripped_word = \" \".join(re.findall(\"[a-zA-Z]+\", word))\n",
    "        if detect_language(stripped_word) == \"latin\":\n",
    "            if(word not in original_english_words and word.lower() not in original_english_words and word.upper() not in original_english_words):\n",
    "                FP += 1\n",
    "    \n",
    "    \n",
    "    return TP, FP, FN"
   ]
  },
  {
   "cell_type": "code",
   "execution_count": 9,
   "metadata": {},
   "outputs": [],
   "source": [
    "# original_text = {\n",
    "#     \"text\" : \"prepei na kanoume adjust sta kainouria guidelines\",\n",
    "#     \"gt_indices\": [3, 6]\n",
    "# }\n",
    "\n",
    "# predicted_text = \"πρεπει να κανουμε adjust στα kainourgia guidelines\"\n",
    "\n",
    "# recall, precision = calculate_scores_misaligned(original_text[\"text\"], predicted_text, original_text[\"gt_indices\"])\n",
    "# print(\"Recall: \", recall)\n",
    "# print(\"Precision: \", precision)"
   ]
  },
  {
   "cell_type": "code",
   "execution_count": 10,
   "metadata": {},
   "outputs": [
    {
     "name": "stdout",
     "output_type": "stream",
     "text": [
      "Forum:  Προγραμματισμός_sample.json\n",
      "Forum:  Hardware_sample.json\n",
      "Forum:  Gadgets_sample.json\n",
      "Forum:  Λειτουργικά Συστήματα_sample.json\n",
      "Forum:  Ειδήσεις_sample.json\n",
      "Forum:  Ψυχαγωγία_sample.json\n",
      "Forum:  Software_sample.json\n",
      "Forum:  Διαδίκτυο_sample.json\n"
     ]
    }
   ],
   "source": [
    "# Evaluate LLama\n",
    "\n",
    "llama_data = os.listdir(\"LLMs/LLM_data/llama-3.1-70b-versatile_0.0_data/\")\n",
    "\n",
    "for forum in llama_data:\n",
    "    with open()\n"
   ]
  }
 ],
 "metadata": {
  "kernelspec": {
   "display_name": "Python (test_greeklish)",
   "language": "python",
   "name": "test_greeklish"
  },
  "language_info": {
   "codemirror_mode": {
    "name": "ipython",
    "version": 3
   },
   "file_extension": ".py",
   "mimetype": "text/x-python",
   "name": "python",
   "nbconvert_exporter": "python",
   "pygments_lexer": "ipython3",
   "version": "3.12.3"
  }
 },
 "nbformat": 4,
 "nbformat_minor": 4
}
